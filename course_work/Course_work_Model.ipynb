{
 "cells": [
  {
   "cell_type": "code",
   "execution_count": 1,
   "metadata": {},
   "outputs": [],
   "source": [
    "import numpy as np\n",
    "import pandas as pd\n",
    "import matplotlib.pyplot as plt\n",
    "import random\n",
    "import seaborn as sns\n",
    "\n",
    "%config InlineBackend.figure_format = 'svg'\n",
    "%matplotlib inline\n",
    "TRAIN_PATH = './train.csv'\n",
    "TEST_PATH = './test.csv'\n",
    "SUBMISSION_PATH = './sample_submission.csv'\n",
    "\n",
    "import warnings\n",
    "warnings.filterwarnings('ignore')"
   ]
  },
  {
   "cell_type": "code",
   "execution_count": 2,
   "metadata": {},
   "outputs": [],
   "source": [
    "from sklearn.model_selection import train_test_split"
   ]
  },
  {
   "cell_type": "code",
   "execution_count": 3,
   "metadata": {},
   "outputs": [],
   "source": [
    "from sklearn.metrics import r2_score as r2\n",
    "from sklearn.metrics import mean_squared_error as mse\n",
    "from sklearn.metrics import mean_absolute_error as mae"
   ]
  },
  {
   "cell_type": "code",
   "execution_count": 4,
   "metadata": {},
   "outputs": [],
   "source": [
    "from sklearn.ensemble import RandomForestRegressor\n",
    "from sklearn.model_selection import GridSearchCV, KFold\n",
    "from sklearn.tree import DecisionTreeRegressor, plot_tree"
   ]
  },
  {
   "cell_type": "code",
   "execution_count": 5,
   "metadata": {},
   "outputs": [],
   "source": [
    "tr = pd.read_csv(TRAIN_PATH)\n",
    "te = pd.read_csv(TEST_PATH)"
   ]
  },
  {
   "cell_type": "markdown",
   "metadata": {},
   "source": [
    "# 1 - EDA, очистка"
   ]
  },
  {
   "cell_type": "code",
   "execution_count": 6,
   "metadata": {},
   "outputs": [],
   "source": [
    "def evaluate_preds(train_true_values, train_pred_values, test_true_values, test_pred_values, paint=0):\n",
    "    print(\"Train R2:\\t\" + str(round(r2(train_true_values, train_pred_values), 3)))\n",
    "    print(\"Test R2:\\t\" + str(round(r2(test_true_values, test_pred_values), 3)))\n",
    "    \n",
    "    if paint:\n",
    "        plt.figure(figsize=(10,5))\n",
    "\n",
    "        plt.subplot(121)\n",
    "        sns.scatterplot(x=train_pred_values, y=train_true_values, size=3)\n",
    "        plt.xlabel('Predicted values')\n",
    "        plt.ylabel('True values')\n",
    "        plt.title('Train sample prediction')\n",
    "\n",
    "        plt.subplot(122)\n",
    "        sns.scatterplot(x=test_pred_values, y=test_true_values, size=3)\n",
    "        plt.xlabel('Predicted values')\n",
    "        plt.ylabel('True values')\n",
    "        plt.title('Test sample prediction')\n",
    "\n",
    "        plt.show()\n",
    "    \n",
    "    return round(r2(train_true_values, train_pred_values), 3), round(r2(test_true_values, test_pred_values), 3)"
   ]
  },
  {
   "cell_type": "code",
   "execution_count": 7,
   "metadata": {},
   "outputs": [],
   "source": [
    "class DataPreprocessing:\n",
    "    \n",
    "    def __init__(self):\n",
    "        self.binary_to_numbers = {'A': 0, 'B': 1}\n",
    "        pass\n",
    "    \n",
    "    def correct_ls_1(self, X):\n",
    "        df = X\n",
    "        bls = (df.LifeSquare / 4 > df.Square) & (df.LifeSquare > 150)\n",
    "        while bls.sum():\n",
    "            df.loc[bls, 'LifeSquare'] = df.loc[bls, 'LifeSquare'] / 10\n",
    "            bls = (df.LifeSquare / 4 > df.Square) & (df.LifeSquare > 150)\n",
    "        return df\n",
    "    \n",
    "    def correct_ls_2(self, X):\n",
    "        df = X\n",
    "        bsq = (df.LifeSquare > 300)\n",
    "        df.loc[bsq, ['LifeSquare']] = df.loc[bsq, ['LifeSquare']] / 10\n",
    "        return df\n",
    "    \n",
    "    def correct_sq_1(self, X):\n",
    "        df = X\n",
    "        bsq = (df.Square > 300)\n",
    "        df.loc[bsq, ['Square']] = df.loc[bsq, ['Square']] / 10\n",
    "        return df\n",
    "    \n",
    "    def swap_sq_lsq(self, X):\n",
    "        df = X\n",
    "        swap_mask = df.LifeSquare > df.Square\n",
    "        df.loc[swap_mask, ['Square', 'LifeSquare']] = df.loc[swap_mask, ['LifeSquare', 'Square']].values\n",
    "        return df\n",
    "    \n",
    "    def calc_sq_room_stat(self, X):\n",
    "        df = X\n",
    "        df.loc[df.Rooms > 5, 'Rooms'] = 0\n",
    "        norm_rooms = (df.Rooms > 0)\n",
    "        sq_room_stat = df[norm_rooms].groupby(by='Rooms')['Square'].mean().values\n",
    "        return sq_room_stat\n",
    "    \n",
    "    def get_mean_sq(self, X):\n",
    "        df = tr\n",
    "        min_sq = (df.Square < 12)\n",
    "        mean = df.Square[~min_sq].mean()\n",
    "        return mean\n",
    "\n",
    "    def restore_min_square(self, X, mean_sq):\n",
    "        df = X\n",
    "        min_sq = (df.Square < 12)\n",
    "        df.loc[min_sq, 'Square'] = mean_sq\n",
    "        return df\n",
    "    \n",
    "    def restore_rooms(self, sq):\n",
    "        stat = self.square_room_stat.copy()\n",
    "        stat -= sq\n",
    "        stat = np.abs(stat)\n",
    "        index = int(np.argmin(stat))\n",
    "        return index + 1\n",
    "    \n",
    "    def get_kitchen_stat(self, X):\n",
    "        df = X\n",
    "        norm_ksq = ((df.KitchenSquare >= 4) & (df.KitchenSquare < 35))\n",
    "        df_nsq = df[norm_ksq]\n",
    "        kitchen_stat = []\n",
    "        for i in range(1, 6):\n",
    "            kitchen_stat_line = []\n",
    "            kitchen_stat_line.append(df_nsq.loc[df_nsq.Rooms == i, 'KitchenSquare'].quantile(q=0.025))\n",
    "            kitchen_stat_line.append(df_nsq.loc[df_nsq.Rooms == i, 'KitchenSquare'].mean())\n",
    "            kitchen_stat_line.append(df_nsq.loc[df_nsq.Rooms == i, 'KitchenSquare'].quantile(q=0.975))\n",
    "            kitchen_stat.append(kitchen_stat_line)\n",
    "        return kitchen_stat\n",
    "    \n",
    "    def restore_kitchen_size(self, X):\n",
    "        df = X\n",
    "        for n_rooms in range(1, 6):\n",
    "            min_sq, med_sq, max_sq = self.kitchen_stat[n_rooms - 1]\n",
    "            very_small_kitchen = (df.KitchenSquare < min_sq)\n",
    "            df.loc[(very_small_kitchen) & (df.Rooms == n_rooms), 'KitchenSquare'] = med_sq\n",
    "            very_big_kitchen = (df.KitchenSquare > max_sq)\n",
    "            df.loc[(very_big_kitchen) & (df.Rooms == n_rooms), 'KitchenSquare'] = med_sq\n",
    "        return df\n",
    "    \n",
    "    def get_excess_stat(self, X):\n",
    "        df = X\n",
    "        ls_na = df.LifeSquare.isna()\n",
    "        ls_big = df.LifeSquare > (df.Square - df.KitchenSquare - 2.5)\n",
    "        ls_small = (df.Square / df.LifeSquare) > 2\n",
    "        ls_bad = ls_na | ls_big | ls_small\n",
    "        df_norm_ls = df.loc[~ls_bad]\n",
    "#         print(df_norm_ls.shape[0])\n",
    "        ranges = [120, 110, 100, 90, 85, 80, 75, 70, 65, 60, 55, 50, 45, 40, 30, 10]\n",
    "        excess_stat = []\n",
    "        mask = df.Square.isna() # 00000000\n",
    "    #     print(mask.sum())\n",
    "        for curr_range in ranges:\n",
    "            excess = []\n",
    "            excess.append(curr_range)\n",
    "            curr_mask = df_norm_ls.Square >= curr_range\n",
    "            curr_mask = curr_mask ^ mask\n",
    "            mean_ex = (df_norm_ls.loc[curr_mask, 'Square'] / (df_norm_ls.loc[curr_mask, 'Square'] - \\\n",
    "                       (df_norm_ls.loc[curr_mask, 'LifeSquare'] + \\\n",
    "                        df_norm_ls.loc[curr_mask, 'KitchenSquare']))).mean()\n",
    "            excess.append(mean_ex)\n",
    "            excess_stat.append(excess)\n",
    "            mask = mask | curr_mask\n",
    "#             print(f\"{curr_range} {curr_mask.sum()} {mask.sum()}\")\n",
    "        return excess_stat\n",
    "\n",
    "    def square_to_excess_square(self, sq):\n",
    "        if sq > self.excess_stat[0][0]:\n",
    "            return sq / self.excess_stat[0][1]\n",
    "        i = 0\n",
    "        while sq > self.excess_stat[i][0]:\n",
    "            i += 1\n",
    "        return sq / self.excess_stat[i][1]\n",
    "    \n",
    "    def correct_ls_3(self, X):\n",
    "        df = X\n",
    "        ls_na = df.LifeSquare.isna()\n",
    "        ls_big = df.LifeSquare > (df.Square - df.KitchenSquare - 2.5)\n",
    "        ls_small = (df.Square / df.LifeSquare) > 2\n",
    "        ls_bad = ls_na | ls_big | ls_small\n",
    "        df.loc[ls_bad, 'LifeSquare'] = df.loc[ls_bad, 'Square'] - df.loc[ls_bad, 'KitchenSquare'] - \\\n",
    "                                       df.loc[ls_bad, 'Square'].apply(self.square_to_excess_square)\n",
    "        return df\n",
    "    \n",
    "    def correct_house_floor_1(self, X):\n",
    "        df = X\n",
    "        df.loc[df.HouseFloor > 50, 'HouseFloor'] = round(df.loc[df.HouseFloor > 50, 'HouseFloor'] / 10)\n",
    "        return df\n",
    "    \n",
    "    def correct_house_year_1(self, X):\n",
    "        df = X\n",
    "        bad_hy = (df.HouseYear < 1900) | (df.HouseYear > 2021)\n",
    "        df.loc[bad_hy, 'HouseYear'] = self.hy_mode\n",
    "        return df\n",
    "    \n",
    "    def get_mode(self, s):\n",
    "        return s.mode().values[0]\n",
    "    \n",
    "    def get_hfloor_stat(self, X):\n",
    "        df = X\n",
    "        norm_hfloor = (df.HouseFloor >= df.Floor) & (df.HouseFloor != 0)\n",
    "        df['hy'] = np.floor(df['HouseYear'] / 10)\n",
    "        floor_stat_modes = df.loc[norm_hfloor].groupby(by='hy')['HouseFloor'].apply(self.get_mode).to_dict()\n",
    "        floor_stat_max = df.loc[norm_hfloor].groupby(by='hy')['HouseFloor'].max().to_dict()\n",
    "        last_val = 4\n",
    "        for key in range(190, 202):\n",
    "            val = floor_stat_modes.get(key)\n",
    "            if val is None:\n",
    "                floor_stat_modes[key] = last_val\n",
    "            else:\n",
    "                last_val = val\n",
    "        df.drop(columns='hy', axis=1, inplace=True)\n",
    "        return floor_stat_modes, floor_stat_max\n",
    "    \n",
    "    def year_to_floor_modes(self, y):\n",
    "        return self.floor_stat_modes.get(np.floor(y / 10))\n",
    "    \n",
    "    def year_to_floor_max(self, y):\n",
    "        return self.floor_stat_max.get(np.floor(y / 10))\n",
    "    \n",
    "    def correct_house_floor_2(self, X):\n",
    "        df = X\n",
    "        bad_hfloor = (df.HouseFloor == 0)\n",
    "        df.loc[bad_hfloor, 'HouseFloor'] = df.loc[bad_hfloor, 'HouseYear'].apply(self.year_to_floor_modes)\n",
    "        bad_hfloor = (df.HouseFloor < df.Floor)\n",
    "        df.loc[bad_hfloor, 'HouseFloor'] = df.loc[bad_hfloor, 'HouseYear'].apply(self.year_to_floor_modes)\n",
    "        bad_hfloor = (df.HouseFloor < df.Floor)\n",
    "        df.loc[bad_hfloor, 'HouseFloor'] = df.loc[bad_hfloor, 'HouseYear'].apply(self.year_to_floor_max)\n",
    "        return df\n",
    "    \n",
    "    def correct_floor(self, X):\n",
    "        df = X\n",
    "        bad_floor = (df.Floor > df.HouseFloor) | (df.Floor == 0)\n",
    "        df.loc[bad_floor, 'Floor'] = np.random.randint(1, df.loc[bad_floor, 'HouseFloor'])\n",
    "        return df\n",
    "    \n",
    "    def fit_transform(self, X):\n",
    "        df = X.copy()\n",
    "        # 0 - жилая в 4 раза больше общей и больше 150\n",
    "        df = self.correct_ls_1(df)\n",
    "        # 1 - общая больше 300\n",
    "        df = self.correct_sq_1(df)\n",
    "        # 2 - жилая больше 300\n",
    "        df = self.correct_ls_2(df)\n",
    "        # 3 - жилая больше общей\n",
    "        df = self.swap_sq_lsq(df)\n",
    "        # 4 - статистика по средней площади на количество комнат\n",
    "        df.loc[df.Rooms > 5, 'Rooms'] = 0\n",
    "        self.square_room_stat = self.calc_sq_room_stat(df)\n",
    "        # 5 - средняя площадь квартиры на рынке\n",
    "        self.mean_square = self.get_mean_sq(df)\n",
    "        # 6 - восстановление площади для самых маленьких (<12м)\n",
    "        df = self.restore_min_square(df, self.mean_square)\n",
    "        # 7 - восстановление числа комнат\n",
    "        null_rooms = (df.Rooms == 0)\n",
    "        df.loc[null_rooms, 'Rooms'] = df.loc[null_rooms, 'Square'].apply(self.restore_rooms)\n",
    "        # 8 - сбор статистики, восстановление и корректировка размера кухни\n",
    "        self.kitchen_stat = self.get_kitchen_stat(df)\n",
    "        df = self.restore_kitchen_size(df)\n",
    "        # 9 - Статистика лишнего пространства в квартирах на основе площади\n",
    "        self.excess_stat = self.get_excess_stat(df)\n",
    "#         print(self.excess_stat)\n",
    "        df = self.correct_ls_3(df)\n",
    "        # 10 - Этажи и год постройки\n",
    "        df = self.correct_house_floor_1(df)\n",
    "        self.hy_mode = df.HouseYear.mode().values[0]\n",
    "        df = self.correct_house_year_1(df)\n",
    "        self.floor_stat_modes, self.floor_stat_max = self.get_hfloor_stat(df)\n",
    "        df = self.correct_house_floor_2(df)\n",
    "        df = self.correct_floor(df)\n",
    "        # 11 - Экология\n",
    "        df['Ecology_2'] = df['Ecology_2'].replace(self.binary_to_numbers)\n",
    "        df['Ecology_3'] = df['Ecology_3'].replace(self.binary_to_numbers)\n",
    "        # 12 - магазины\n",
    "        df['Shops_2'] = df['Shops_2'].replace(self.binary_to_numbers)\n",
    "        # 13 - Медицина\n",
    "#         df.drop('Healthcare_1', axis=1, inplace=True)\n",
    "        self.hc1_features = ['Ecology_1', 'Ecology_2', 'Ecology_3', 'Social_1', 'Social_2', 'Social_3', \n",
    "                        'Healthcare_1', 'Helthcare_2', 'Shops_1', 'Shops_2']\n",
    "        self.hc1_features_1 = ['Ecology_1', 'Ecology_2', 'Ecology_3', 'Social_1', 'Social_2', 'Social_3', \n",
    "                          'Helthcare_2', 'Shops_1', 'Shops_2']\n",
    "        X = df[self.hc1_features]\n",
    "        X = X.loc[~X.Healthcare_1.isna()]\n",
    "        y = X['Healthcare_1']\n",
    "        X = X[self.hc1_features_1]\n",
    "        X_tr, X_te, y_tr, y_te = train_test_split(X, y, test_size=0.25, random_state=42)\n",
    "        X_tr.shape, X_te.shape, y_tr.shape, y_te.shape\n",
    "        self.hc1_model = RandomForestRegressor(random_state=100, max_depth=7, max_features=4, n_estimators=200)\n",
    "        self.hc1_model.fit(X_tr, y_tr)\n",
    "        df.loc[df.Healthcare_1.isna(), 'Healthcare_1'] = \\\n",
    "        self.hc1_model.predict(df.loc[df.Healthcare_1.isna(), self.hc1_features_1])\n",
    "        return df\n",
    "    \n",
    "    def transform(self, X):\n",
    "        df = X.copy()\n",
    "        # 0 - жилая в 4 раза больше общей и больше 150\n",
    "        df = self.correct_ls_1(df)\n",
    "        # 1 - общая больше 300\n",
    "        df = self.correct_sq_1(df)\n",
    "        # 2 - жилая больше 300\n",
    "        df = self.correct_ls_2(df)\n",
    "        # 3 - жилая больше общей\n",
    "        df = self.swap_sq_lsq(df)\n",
    "        # 4 - статистика по средней площади на количество комнат\n",
    "        df.loc[df.Rooms > 5, 'Rooms'] = 0\n",
    "#         self.square_room_stat = self.calc_sq_room_stat(df)\n",
    "\n",
    "        # 5 - средняя площадь квартиры на рынке\n",
    "#         self.mean_square = self.get_mean_sq(df)\n",
    "\n",
    "        # 6 - восстановление площади для самых маленьких (<12м)\n",
    "        df = self.restore_min_square(df, self.mean_square)\n",
    "        # 7 - восстановление числа комнат\n",
    "        null_rooms = (df.Rooms == 0)\n",
    "        df.loc[null_rooms, 'Rooms'] = df.loc[null_rooms, 'Square'].apply(self.restore_rooms)\n",
    "        # 8 - сбор статистики, восстановление и корректировка размера кухни\n",
    "#         self.kitchen_stat = self.get_kitchen_stat(df)\n",
    "        df = self.restore_kitchen_size(df)\n",
    "        # 9 - Статистика лишнего пространства в квартирах на основе площади\n",
    "#         self.excess_stat = self.get_excess_stat(df)\n",
    "#         print(self.excess_stat)\n",
    "        df = self.correct_ls_3(df)\n",
    "        # 10 - Этажи и год постройки\n",
    "        df = self.correct_house_floor_1(df)\n",
    "#         self.hy_mode = df.HouseYear.mode().values[0]\n",
    "        df = self.correct_house_year_1(df)\n",
    "#         self.floor_stat_modes, self.floor_stat_max = self.get_hfloor_stat(df)\n",
    "        df = self.correct_house_floor_2(df)\n",
    "        df = self.correct_floor(df)\n",
    "        # 11 - Экология\n",
    "        df['Ecology_2'] = df['Ecology_2'].replace(self.binary_to_numbers)\n",
    "        df['Ecology_3'] = df['Ecology_3'].replace(self.binary_to_numbers)\n",
    "        # 12 - магазины\n",
    "        df['Shops_2'] = df['Shops_2'].replace(self.binary_to_numbers)\n",
    "        # 13 - Медицина\n",
    "#         df.drop('Healthcare_1', axis=1, inplace=True)\n",
    "        df.loc[df.Healthcare_1.isna(), 'Healthcare_1'] = \\\n",
    "        self.hc1_model.predict(df.loc[df.Healthcare_1.isna(), self.hc1_features_1])\n",
    "        return df\n"
   ]
  },
  {
   "cell_type": "code",
   "execution_count": 8,
   "metadata": {},
   "outputs": [],
   "source": [
    "preprocessor = DataPreprocessing()"
   ]
  },
  {
   "cell_type": "code",
   "execution_count": 9,
   "metadata": {},
   "outputs": [],
   "source": [
    "tr = preprocessor.fit_transform(tr)\n",
    "te = preprocessor.transform(te)"
   ]
  },
  {
   "cell_type": "markdown",
   "metadata": {},
   "source": [
    "# 2 - Генерация новых фич"
   ]
  },
  {
   "cell_type": "code",
   "execution_count": 10,
   "metadata": {},
   "outputs": [],
   "source": [
    "class FeatureGenerator:\n",
    "    \n",
    "    def __init__(self):\n",
    "        pass\n",
    "    \n",
    "    def is_unk_district(self, dist_id):\n",
    "        if dist_id in self.districts_id:\n",
    "            return 0\n",
    "        else:\n",
    "            return 1\n",
    "    \n",
    "    def fit_transform(self, df_in):\n",
    "        df = df_in\n",
    "        self.distr_rating = df.groupby(by='DistrictId', as_index=False).agg({'Price': 'sum', 'Square': 'sum'})\n",
    "        self.distr_rating.rename(columns={'Price': 'price_sum', 'Square': 'sqr_sum'}, inplace=True)\n",
    "        self.distr_rating['sq_meter_price'] = self.distr_rating.price_sum / self.distr_rating.sqr_sum\n",
    "        df = pd.merge(df, self.distr_rating[['DistrictId', 'sq_meter_price']], on='DistrictId', how='left')\n",
    "        self.sq_meter_features = ['Square', 'LifeSquare', 'KitchenSquare', 'Floor', 'HouseFloor',\\\n",
    "                     'Ecology_1', 'Ecology_2', 'Ecology_3', 'Social_1', 'Social_2', \\\n",
    "                     'Social_3', 'Healthcare_1','Helthcare_2', 'Shops_1', 'Shops_2']\n",
    "        X = df[self.sq_meter_features]\n",
    "        y = df[['sq_meter_price']]\n",
    "        X_tr, X_te, y_tr, y_te = train_test_split(X, y, test_size=0.25, random_state=42)\n",
    "        self.model = RandomForestRegressor(random_state=100, max_depth=10, max_features=15, n_estimators=200)\n",
    "        self.model.fit(X_tr, y_tr)\n",
    "        self.districts_id = df.DistrictId.unique().tolist()\n",
    "        \n",
    "#         df['min_or_max'] = ((df.Floor == 1) | (df.Floor == df.HouseFloor)).astype(np.int32)\n",
    "        df['min_floor'] = (df.Floor == 1).astype(np.int32)\n",
    "        df['max_floor'] = (df.Floor == df.HouseFloor).astype(np.int32)\n",
    "        \n",
    "        return df\n",
    "    \n",
    "    def transform(self, df_in):\n",
    "        df = df_in\n",
    "        df = pd.merge(df, self.distr_rating[['DistrictId', 'sq_meter_price']], on='DistrictId', how='left')\n",
    "        df['unk_district'] = df.DistrictId.apply(self.is_unk_district)\n",
    "        unk_district = (df.unk_district == 1)\n",
    "        df.loc[unk_district, 'sq_meter_price'] = self.model.predict(df.loc[unk_district, self.sq_meter_features])\n",
    "        \n",
    "        df['min_floor'] = (df.Floor == 1).astype(np.int32)\n",
    "        df['max_floor'] = (df.Floor == df.HouseFloor).astype(np.int32)\n",
    "#         df['min_or_max'] = ((df.Floor == 1) | (df.Floor == df.HouseFloor)).astype(np.int32)\n",
    "        \n",
    "        return df"
   ]
  },
  {
   "cell_type": "code",
   "execution_count": 11,
   "metadata": {},
   "outputs": [],
   "source": [
    "from sklearn.model_selection import train_test_split\n",
    "from sklearn.ensemble import RandomForestRegressor"
   ]
  },
  {
   "cell_type": "code",
   "execution_count": 12,
   "metadata": {},
   "outputs": [],
   "source": [
    "feature_generator = FeatureGenerator()\n",
    "\n",
    "tr = feature_generator.fit_transform(tr)\n",
    "te = feature_generator.transform(te)"
   ]
  },
  {
   "cell_type": "code",
   "execution_count": 13,
   "metadata": {},
   "outputs": [],
   "source": [
    "used_features = ['Rooms', 'Square', 'LifeSquare', 'KitchenSquare',\n",
    "                 'Floor', 'HouseFloor', 'HouseYear', 'Ecology_1', 'Ecology_2',\n",
    "                 'Ecology_3', 'Social_1', 'Social_2', 'Social_3', 'Healthcare_1',\n",
    "                 'Helthcare_2', 'Shops_1', 'Shops_2', 'sq_meter_price']"
   ]
  },
  {
   "cell_type": "code",
   "execution_count": 14,
   "metadata": {},
   "outputs": [],
   "source": [
    "from sklearn.model_selection import train_test_split, cross_val_score"
   ]
  },
  {
   "cell_type": "markdown",
   "metadata": {},
   "source": [
    "# 3 - Построение и оценка качества моделей"
   ]
  },
  {
   "cell_type": "code",
   "execution_count": 15,
   "metadata": {},
   "outputs": [],
   "source": [
    "from sklearn.model_selection import train_test_split, cross_val_score\n",
    "from sklearn.metrics import r2_score as r2\n",
    "from sklearn.ensemble import RandomForestRegressor, GradientBoostingRegressor\n",
    "from sklearn.model_selection import GridSearchCV, KFold\n",
    "from sklearn.neighbors import KNeighborsRegressor\n",
    "from sklearn.preprocessing import RobustScaler"
   ]
  },
  {
   "cell_type": "code",
   "execution_count": 16,
   "metadata": {},
   "outputs": [],
   "source": [
    "X = tr[used_features]\n",
    "y = tr['Price']"
   ]
  },
  {
   "cell_type": "code",
   "execution_count": 17,
   "metadata": {},
   "outputs": [
    {
     "data": {
      "text/plain": [
       "((7500, 18), (2500, 18), (7500,), (2500,))"
      ]
     },
     "execution_count": 17,
     "metadata": {},
     "output_type": "execute_result"
    }
   ],
   "source": [
    "X_tr, X_te, y_tr, y_te = train_test_split(X, y, test_size=0.25, random_state=42)\n",
    "X_tr.shape, X_te.shape, y_tr.shape, y_te.shape"
   ]
  },
  {
   "cell_type": "code",
   "execution_count": 18,
   "metadata": {},
   "outputs": [],
   "source": [
    "te = te[used_features]"
   ]
  },
  {
   "cell_type": "code",
   "execution_count": 19,
   "metadata": {},
   "outputs": [
    {
     "data": {
      "text/plain": [
       "(0, 0, 0)"
      ]
     },
     "execution_count": 19,
     "metadata": {},
     "output_type": "execute_result"
    }
   ],
   "source": [
    "X_tr.isna().sum().sum(), X_te.isna().sum().sum(), te.isna().sum().sum()"
   ]
  },
  {
   "cell_type": "code",
   "execution_count": 20,
   "metadata": {},
   "outputs": [],
   "source": [
    "# %%time\n",
    "# # GBR\n",
    "# gb_model = GradientBoostingRegressor(criterion='mse',\n",
    "# #                                      max_depth=6,\n",
    "#                                      min_samples_leaf=60,\n",
    "#                                      random_state=42,  \n",
    "# #                                      n_estimators=2250, \n",
    "#                                      max_features='sqrt', \n",
    "# #                                      learning_rate=0.025,\n",
    "#                                      loss='huber' \n",
    "                                     \n",
    "#                                     )\n",
    "# params = {'n_estimators': np.arange(200, 3250, 250),\n",
    "#           'learning_rate': np.arange(0.005, 0.030, 0.005),\n",
    "#           'max_depth':[6, ]}\n",
    "\n",
    "# model = GridSearchCV(gb_model, params, scoring='r2', verbose=1,\n",
    "#                      cv=KFold(n_splits=4,random_state=128, shuffle=True), n_jobs=10)\n",
    "# model.fit(X_tr, y_tr)\n",
    "# print(model.best_params_)\n",
    "\n",
    "# y_tr_pred = model.predict(X_tr)\n",
    "# y_te_pred = model.predict(X_te)\n",
    "\n",
    "# evaluate_preds(y_tr.values.flatten(), y_tr_pred.flatten(), y_te.values.flatten(), y_te_pred.flatten(), 0)"
   ]
  },
  {
   "cell_type": "code",
   "execution_count": 21,
   "metadata": {},
   "outputs": [
    {
     "name": "stdout",
     "output_type": "stream",
     "text": [
      "Train R2:\t0.84\n",
      "Test R2:\t0.767\n"
     ]
    },
    {
     "data": {
      "text/plain": [
       "(0.84, 0.767)"
      ]
     },
     "execution_count": 21,
     "metadata": {},
     "output_type": "execute_result"
    }
   ],
   "source": [
    "model = GradientBoostingRegressor(criterion='mse',\n",
    "                                     max_depth=6,\n",
    "                                     min_samples_leaf=60,\n",
    "                                     random_state=42,  \n",
    "                                     n_estimators=3200, \n",
    "                                     max_features='sqrt', \n",
    "                                     learning_rate=0.01,\n",
    "                                     loss='huber')\n",
    "model.fit(X_tr, y_tr)\n",
    "y_tr_pred = model.predict(X_tr)\n",
    "y_te_pred = model.predict(X_te)\n",
    "evaluate_preds(y_tr.values.flatten(), y_tr_pred.flatten(), y_te.values.flatten(), y_te_pred.flatten(), 0)"
   ]
  },
  {
   "cell_type": "code",
   "execution_count": 22,
   "metadata": {},
   "outputs": [],
   "source": [
    "# xxx = pd.DataFrame(model.feature_importances_, index = X_tr.columns, columns=['w'] ).\\\n",
    "# sort_values(by=\"w\", ascending=False)\n",
    "# xxx"
   ]
  },
  {
   "cell_type": "code",
   "execution_count": 23,
   "metadata": {},
   "outputs": [],
   "source": [
    "predictions = model.predict(te)\n",
    "submit = pd.read_csv('./sample_submission.csv')\n",
    "submit['Price'] = predictions\n",
    "submit.head()\n",
    "submit.to_csv('rf_submit.csv', index=False)"
   ]
  },
  {
   "cell_type": "markdown",
   "metadata": {},
   "source": [
    "# Юля, спасибо вам большое за курс! Я начал потихоньку понимать что такое машинное обучение.  Все было понятно и доходчиво. Удачи вам!  Эти знания пригодятся однозначно!:)"
   ]
  }
 ],
 "metadata": {
  "kernelspec": {
   "display_name": "Python 3",
   "language": "python",
   "name": "python3"
  },
  "language_info": {
   "codemirror_mode": {
    "name": "ipython",
    "version": 3
   },
   "file_extension": ".py",
   "mimetype": "text/x-python",
   "name": "python",
   "nbconvert_exporter": "python",
   "pygments_lexer": "ipython3",
   "version": "3.8.5"
  }
 },
 "nbformat": 4,
 "nbformat_minor": 4
}
